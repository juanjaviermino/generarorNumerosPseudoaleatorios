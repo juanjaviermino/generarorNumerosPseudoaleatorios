{
 "cells": [
  {
   "attachments": {},
   "cell_type": "markdown",
   "metadata": {},
   "source": [
    "## Generador aleatorio a partir de los primeros 1000 dígitos de pi\n",
    "#### Integrantes:\n",
    "- Jaime Mendoza\n",
    "- Juan Javier Miño\n",
    "- Felipe Robalino\n",
    "- Oscar Albuja"
   ]
  },
  {
   "cell_type": "code",
   "execution_count": 1,
   "metadata": {},
   "outputs": [],
   "source": [
    "import numpy as np\n",
    "from scipy.ndimage import uniform_filter1d\n",
    "import matplotlib.pyplot as plt\n",
    "from tqdm.notebook import tqdm, trange"
   ]
  },
  {
   "cell_type": "code",
   "execution_count": 2,
   "metadata": {},
   "outputs": [],
   "source": [
    "pi = \"\"\"\n",
    "1415926535 8979323846 2643383279 5028841971 6939937510 5820974944 \n",
    "5923078164 0628620899 8628034825 3421170679 8214808651 3282306647 \n",
    "0938446095 5058223172 5359408128 4811174502 8410270193 8521105559 \n",
    "6446229489 5493038196 4428810975 6659334461 2847564823 3786783165 \n",
    "2712019091 4564856692 3460348610 4543266482 1339360726 0249141273 \n",
    "7245870066 0631558817 4881520920 9628292540 9171536436 7892590360 \n",
    "0113305305 4882046652 1384146951 9415116094 3305727036 5759591953 \n",
    "0921861173 8193261179 3105118548 0744623799 6274956735 1885752724 \n",
    "8912279381 8301194912 9833673362 4406566430 8602139494 6395224737 \n",
    "1907021798 6094370277 0539217176 2931767523 8467481846 7669405132 \n",
    "0005681271 4526356082 7785771342 7577896091 7363717872 1468440901 \n",
    "2249534301 4654958537 1050792279 6892589235 4201995611 2129021960 \n",
    "8640344181 5981362977 4771309960 5187072113 4999999837 2978049951 \n",
    "0597317328 1609631859 5024459455 3469083026 4252230825 3344685035 \n",
    "2619311881 7101000313 7838752886 5875332083 8142061717 7669147303 \n",
    "5982534904 2875546873 1159562863 8823537875 9375195778 1857780532 \n",
    "1712268066 1300192787 6611195909 2164201989\n",
    "\"\"\"\n",
    "pi = pi.replace(\" \",\"\").replace(\"\\n\",\"\")\n",
    "# Muestra la distribucion de digitos de los primetos 10000 de pi\n",
    "pi_np = np.array(list(pi))\n",
    "#"
   ]
  },
  {
   "cell_type": "code",
   "execution_count": 3,
   "metadata": {},
   "outputs": [],
   "source": [
    "# Obtiene una seed aleatoria de pi\n",
    "def get_seed(pi_digits, seed_length):\n",
    "    start = np.random.randint(0, len(pi_digits))\n",
    "    if start + seed_length > len(pi_digits):\n",
    "        seed = pi_digits[start:] + pi_digits[:start+seed_length-len(pi_digits)]\n",
    "    else:\n",
    "        seed = pi_digits[start:start+seed_length]\n",
    "    return seed\n",
    "\n",
    "# Con la seed anterior, obtiene una secuencia de 3 en 11\n",
    "def get_secuence(seed):\n",
    "    seed_s = seed*3\n",
    "    secuences = []\n",
    "    for s in range(0, len(seed_s), 3):\n",
    "        secuences.append(seed_s[s:s+3])\n",
    "    return np.array(secuences)\n",
    "\n",
    "# genera el numero aleatorio\n",
    "def get_random_num(secuences):\n",
    "    num_list = [pi[int(x)] for x in secuences]\n",
    "    num = (''.join(num_list))\n",
    "    return num\n",
    "\n",
    "# Obtiene los min/max de una secuencia de numeros\n",
    "def repeating_ext(data, method = 'max'):\n",
    "    if len(data) == 0:\n",
    "        return [] , data\n",
    "    \n",
    "    if method == 'max':\n",
    "        ext = np.where(data==np.max(data))[0]\n",
    "    elif method == 'min':\n",
    "        ext = np.where(data==np.min(data))[0]\n",
    "    else:\n",
    "        raise AttributeError('method not valid, use \"max\" or \"min\"')\n",
    "\n",
    "    if len(ext)==1:\n",
    "        return repeating_ext(data[ext[0]+1:])\n",
    "    return ext, data\n",
    "\n",
    "\n",
    "# Obtiene los varios puntos de medida del numero aleatorio\n",
    "def get_nums(seed=None , n=400000, pi=pi, rawness='rounded'):\n",
    "    if not seed:\n",
    "        seed = get_seed(pi, 11)\n",
    "\n",
    "    values= [seed]\n",
    "    for _ in trange(n, desc=f'Random: {seed}'):\n",
    "        values.append(str(get_random_num(get_secuence(values[-1]))))\n",
    "\n",
    "    # numero de 0 a 1\n",
    "    nums = [int(x) for x in values]\n",
    "    nums1=[x/99999999999 for x in nums]\n",
    "\n",
    "    # moving average y redondeo\n",
    "    avg_data = uniform_filter1d(nums1, size=5000)\n",
    "    avg_data_rounded = np.round(avg_data, 12)\n",
    "\n",
    "    if rawness == 'rounded':\n",
    "        data = avg_data_rounded\n",
    "    elif rawness == 'moving_avg':\n",
    "        data = avg_data\n",
    "    elif rawness == 'raw':\n",
    "        data = nums1\n",
    "    else:\n",
    "        raise AttributeError('rawness not valid, use \"rounded\" or \"moving_avg\"')\n",
    "\n",
    "    return seed, data\n",
    "\n",
    "def random_data(data):\n",
    "    data = np.array(data)\n",
    "    data = data*10\n",
    "    data = data.astype(int)\n",
    "    return data\n",
    "\n",
    "    "
   ]
  },
  {
   "cell_type": "code",
   "execution_count": 4,
   "metadata": {},
   "outputs": [
    {
     "data": {
      "application/vnd.jupyter.widget-view+json": {
       "model_id": "d43d728b695f45b8b32e890bff3ed463",
       "version_major": 2,
       "version_minor": 0
      },
      "text/plain": [
       "Random: 81950790833:   0%|          | 0/5 [00:00<?, ?it/s]"
      ]
     },
     "metadata": {},
     "output_type": "display_data"
    },
    {
     "name": "stdout",
     "output_type": "stream",
     "text": [
      "Primeros 5 numeros con el seed 81950790833\n"
     ]
    },
    {
     "data": {
      "text/plain": [
       "[0.8195079083381951,\n",
       " 0.6304398311463044,\n",
       " 0.7938896491379389,\n",
       " 0.9721773252597218,\n",
       " 0.05226861483052268,\n",
       " 0.21330227482213301]"
      ]
     },
     "execution_count": 4,
     "metadata": {},
     "output_type": "execute_result"
    }
   ],
   "source": [
    "data = get_nums(seed='81950790833',n=5, rawness='raw')[1]\n",
    "print(\"Primeros 5 numeros con el seed 81950790833\")\n",
    "data"
   ]
  },
  {
   "cell_type": "code",
   "execution_count": 5,
   "metadata": {},
   "outputs": [
    {
     "data": {
      "application/vnd.jupyter.widget-view+json": {
       "model_id": "db57bc8a7d7b490c9cc7f7e94437bd12",
       "version_major": 2,
       "version_minor": 0
      },
      "text/plain": [
       "Random: 03600113305:   0%|          | 0/10000 [00:00<?, ?it/s]"
      ]
     },
     "metadata": {},
     "output_type": "display_data"
    },
    {
     "data": {
      "text/plain": [
       "<BarContainer object of 10 artists>"
      ]
     },
     "execution_count": 5,
     "metadata": {},
     "output_type": "execute_result"
    },
    {
     "data": {
      "image/png": "[encoded data removed]",
      "text/plain": [
       "<Figure size 640x480 with 1 Axes>"
      ]
     },
     "metadata": {},
     "output_type": "display_data"
    }
   ],
   "source": [
    "data = get_nums(n=10000, rawness='raw')[1]\n",
    "pi_unique = np.unique(pi_np, return_counts=True)[1]*10\n",
    "plt.bar(*np.unique(random_data(data), return_counts=True), color='g', align='edge' )\n",
    "plt.bar(np.arange(10),pi_unique, width=0.5, color='r', align='edge')\n",
    "plt.bar(np.arange(10), np.array([100]*10)*10, width=0.25, color='b', align='edge')\n",
    "\n",
    "# Distribucion de los numeros aleatorios"
   ]
  },
  {
   "attachments": {},
   "cell_type": "markdown",
   "metadata": {},
   "source": [
    "### Ciclo de generacion\n",
    "    Luego de obtener varias secuencias de numeros aleatorios, para obtener el ciclo de generacion se observo que ciertas seeds generan secuencias aleatorias con cliclos distintos. Para obtener el ciclo de generacion se realiza 20 diferentes secuencias y obtenemos el ciclo de generacion de cada una de ellas. "
   ]
  },
  {
   "cell_type": "code",
   "execution_count": 6,
   "metadata": {},
   "outputs": [
    {
     "data": {
      "application/vnd.jupyter.widget-view+json": {
       "model_id": "b2404970d8754b76bd95b7dbde629179",
       "version_major": 2,
       "version_minor": 0
      },
      "text/plain": [
       "  0%|          | 0/20 [00:00<?, ?it/s]"
      ]
     },
     "metadata": {},
     "output_type": "display_data"
    },
    {
     "data": {
      "application/vnd.jupyter.widget-view+json": {
       "model_id": "a889328418c840b7a45e93c30ff4364e",
       "version_major": 2,
       "version_minor": 0
      },
      "text/plain": [
       "Random: 31859502445:   0%|          | 0/400000 [00:00<?, ?it/s]"
      ]
     },
     "metadata": {},
     "output_type": "display_data"
    },
    {
     "data": {
      "application/vnd.jupyter.widget-view+json": {
       "model_id": "c8ab1f15a35142a8aea2fa1f056f24d7",
       "version_major": 2,
       "version_minor": 0
      },
      "text/plain": [
       "Random: 83875288658:   0%|          | 0/400000 [00:00<?, ?it/s]"
      ]
     },
     "metadata": {},
     "output_type": "display_data"
    },
    {
     "data": {
      "application/vnd.jupyter.widget-view+json": {
       "model_id": "9b0a371212fc4d9d953bb7379cdf8b07",
       "version_major": 2,
       "version_minor": 0
      },
      "text/plain": [
       "Random: 74771309960:   0%|          | 0/400000 [00:00<?, ?it/s]"
      ]
     },
     "metadata": {},
     "output_type": "display_data"
    },
    {
     "data": {
      "application/vnd.jupyter.widget-view+json": {
       "model_id": "3300d3de46284ef69180efb90353a71f",
       "version_major": 2,
       "version_minor": 0
      },
      "text/plain": [
       "Random: 48253421170:   0%|          | 0/400000 [00:00<?, ?it/s]"
      ]
     },
     "metadata": {},
     "output_type": "display_data"
    },
    {
     "data": {
      "application/vnd.jupyter.widget-view+json": {
       "model_id": "698cb129f5294f2d8860052f51582eb7",
       "version_major": 2,
       "version_minor": 0
      },
      "text/plain": [
       "Random: 96282925409:   0%|          | 0/400000 [00:00<?, ?it/s]"
      ]
     },
     "metadata": {},
     "output_type": "display_data"
    },
    {
     "data": {
      "application/vnd.jupyter.widget-view+json": {
       "model_id": "f7234d59137240da97139a8b436c29d4",
       "version_major": 2,
       "version_minor": 0
      },
      "text/plain": [
       "Random: 61121290219:   0%|          | 0/400000 [00:00<?, ?it/s]"
      ]
     },
     "metadata": {},
     "output_type": "display_data"
    },
    {
     "data": {
      "application/vnd.jupyter.widget-view+json": {
       "model_id": "966f636f2c6a48ba9e240a5ef653ee5c",
       "version_major": 2,
       "version_minor": 0
      },
      "text/plain": [
       "Random: 81284811174:   0%|          | 0/400000 [00:00<?, ?it/s]"
      ]
     },
     "metadata": {},
     "output_type": "display_data"
    },
    {
     "data": {
      "application/vnd.jupyter.widget-view+json": {
       "model_id": "8836f1194d254fd9870a1e247a3e7d81",
       "version_major": 2,
       "version_minor": 0
      },
      "text/plain": [
       "Random: 53921717629:   0%|          | 0/400000 [00:00<?, ?it/s]"
      ]
     },
     "metadata": {},
     "output_type": "display_data"
    },
    {
     "data": {
      "application/vnd.jupyter.widget-view+json": {
       "model_id": "344e76004d224f83a8f2f264bb7167b2",
       "version_major": 2,
       "version_minor": 0
      },
      "text/plain": [
       "Random: 73819326117:   0%|          | 0/400000 [00:00<?, ?it/s]"
      ]
     },
     "metadata": {},
     "output_type": "display_data"
    },
    {
     "data": {
      "application/vnd.jupyter.widget-view+json": {
       "model_id": "d632af0b894b4ba8b92e3ae63947358f",
       "version_major": 2,
       "version_minor": 0
      },
      "text/plain": [
       "Random: 95778185778:   0%|          | 0/400000 [00:00<?, ?it/s]"
      ]
     },
     "metadata": {},
     "output_type": "display_data"
    },
    {
     "data": {
      "application/vnd.jupyter.widget-view+json": {
       "model_id": "5674f6078b0848a1ac86dab502a58064",
       "version_major": 2,
       "version_minor": 0
      },
      "text/plain": [
       "Random: 30548820466:   0%|          | 0/400000 [00:00<?, ?it/s]"
      ]
     },
     "metadata": {},
     "output_type": "display_data"
    },
    {
     "data": {
      "application/vnd.jupyter.widget-view+json": {
       "model_id": "dd25da3389964c5396910c5c6f6f1e9b",
       "version_major": 2,
       "version_minor": 0
      },
      "text/plain": [
       "Random: 34468503526:   0%|          | 0/400000 [00:00<?, ?it/s]"
      ]
     },
     "metadata": {},
     "output_type": "display_data"
    },
    {
     "data": {
      "application/vnd.jupyter.widget-view+json": {
       "model_id": "b7987ec7fa2043408491afaa64c2c8b6",
       "version_major": 2,
       "version_minor": 0
      },
      "text/plain": [
       "Random: 57713427577:   0%|          | 0/400000 [00:00<?, ?it/s]"
      ]
     },
     "metadata": {},
     "output_type": "display_data"
    },
    {
     "data": {
      "application/vnd.jupyter.widget-view+json": {
       "model_id": "4e6ed10427214d978d0a7b5062386d43",
       "version_major": 2,
       "version_minor": 0
      },
      "text/plain": [
       "Random: 05392171762:   0%|          | 0/400000 [00:00<?, ?it/s]"
      ]
     },
     "metadata": {},
     "output_type": "display_data"
    },
    {
     "data": {
      "application/vnd.jupyter.widget-view+json": {
       "model_id": "11ca361e16d440abb4ebd059e972bf8f",
       "version_major": 2,
       "version_minor": 0
      },
      "text/plain": [
       "Random: 34861045432:   0%|          | 0/400000 [00:00<?, ?it/s]"
      ]
     },
     "metadata": {},
     "output_type": "display_data"
    },
    {
     "data": {
      "application/vnd.jupyter.widget-view+json": {
       "model_id": "8e1aa92d7d99416998f7afff0237948f",
       "version_major": 2,
       "version_minor": 0
      },
      "text/plain": [
       "Random: 11738193261:   0%|          | 0/400000 [00:00<?, ?it/s]"
      ]
     },
     "metadata": {},
     "output_type": "display_data"
    },
    {
     "data": {
      "application/vnd.jupyter.widget-view+json": {
       "model_id": "b3370b73469d47f8b35f9ea32a7dd6d8",
       "version_major": 2,
       "version_minor": 0
      },
      "text/plain": [
       "Random: 66521384146:   0%|          | 0/400000 [00:00<?, ?it/s]"
      ]
     },
     "metadata": {},
     "output_type": "display_data"
    },
    {
     "data": {
      "application/vnd.jupyter.widget-view+json": {
       "model_id": "02da45a2ab4140999474e72140222a45",
       "version_major": 2,
       "version_minor": 0
      },
      "text/plain": [
       "Random: 61179310511:   0%|          | 0/400000 [00:00<?, ?it/s]"
      ]
     },
     "metadata": {},
     "output_type": "display_data"
    },
    {
     "data": {
      "application/vnd.jupyter.widget-view+json": {
       "model_id": "536757c3522c47a6a6b11f782590a555",
       "version_major": 2,
       "version_minor": 0
      },
      "text/plain": [
       "Random: 35261931188:   0%|          | 0/400000 [00:00<?, ?it/s]"
      ]
     },
     "metadata": {},
     "output_type": "display_data"
    },
    {
     "data": {
      "application/vnd.jupyter.widget-view+json": {
       "model_id": "5485f486ca9c4cd8ae9b1c655df5447b",
       "version_major": 2,
       "version_minor": 0
      },
      "text/plain": [
       "Random: 54930381964:   0%|          | 0/400000 [00:00<?, ?it/s]"
      ]
     },
     "metadata": {},
     "output_type": "display_data"
    }
   ],
   "source": [
    "results = []\n",
    "for _ in trange(20):\n",
    "    data = get_nums()[0:2]\n",
    "    exts = {'max': repeating_ext(data[1], method='max')[0], 'min': repeating_ext(data[1], method='min')[0]}\n",
    "    results.append((data[0], exts, data[1]))"
   ]
  },
  {
   "cell_type": "code",
   "execution_count": 7,
   "metadata": {},
   "outputs": [
    {
     "data": {
      "text/plain": [
       "[('31859502445', 18315.0),\n",
       " ('83875288658', 144740.0),\n",
       " ('74771309960', 144740.0),\n",
       " ('96282925409', 13040.0),\n",
       " ('61121290219', 144740.0),\n",
       " ('81284811174', 144740.0),\n",
       " ('53921717629', 28948.0),\n",
       " ('73819326117', 17340.0),\n",
       " ('95778185778', 144740.0),\n",
       " ('30548820466', 144740.0),\n",
       " ('34468503526', 18315.0),\n",
       " ('57713427577', 144740.0),\n",
       " ('34861045432', 144740.0),\n",
       " ('11738193261', 144740.0),\n",
       " ('66521384146', 144740.0),\n",
       " ('61179310511', 144740.0),\n",
       " ('35261931188', 144740.0),\n",
       " ('54930381964', 144740.0)]"
      ]
     },
     "execution_count": 7,
     "metadata": {},
     "output_type": "execute_result"
    }
   ],
   "source": [
    "periodos=[]\n",
    "for result in results:\n",
    "    maxs = result[1]['max']\n",
    "    mins = result[1]['min']\n",
    "    if (any(maxs) or any(mins)):\n",
    "        periodo = np.array(list(np.diff(maxs))+list(np.diff(mins))).mean()\n",
    "        periodos.append((result[0],periodo))\n",
    "periodos"
   ]
  },
  {
   "cell_type": "code",
   "execution_count": 9,
   "metadata": {},
   "outputs": [
    {
     "data": {
      "text/plain": [
       "<BarContainer object of 5 artists>"
      ]
     },
     "execution_count": 9,
     "metadata": {},
     "output_type": "execute_result"
    },
    {
     "data": {
      "image/png": "[encoded data removed]",
      "text/plain": [
       "<Figure size 640x480 with 1 Axes>"
      ]
     },
     "metadata": {},
     "output_type": "display_data"
    },
    {
     "name": "stderr",
     "output_type": "stream",
     "text": [
      "Bad pipe message: %s [b'0.9,image/webp,image/apng,*/*;q=0.8,application/signed-exchange;v=b3;q=0.7\\r\\nHost: localhost:46311\\r\\nUser-Agent: M', b'illa/5.0 (Windows NT 10.0; Win64; x64) AppleWebKit/537.36 (KHTML, like Gecko) Chrome/113.0.0.0 Safari/537.36 E']\n",
      "Bad pipe message: %s [b'/113.0.1774.35\\r\\nAccept-Encoding: gzip, deflate, br\\r\\nAccept-Language: en-US,en;q=0.9\\r\\nCache-Control:', b'ax-age=0\\r\\nX-Forwarded-For: 10.2', b'.0.4\\r\\nReferer: https://qlz6t2tg-46311.use2.devtunne']\n",
      "Bad pipe message: %s [b'.ms/\\r\\nX-Request-ID: fffc399319aa1b28dd02355371a827e5\\r\\nX-Real-IP: 10.240.0.4\\r\\nX-Forwarded-Proto: https\\r\\nX-Fo', b'arded-Host: qlz6t2tg-46311.use2.devtunnels.ms\\r\\nX-Forwarded-Port: 443\\r\\nX-Forwarded-Scheme: https\\r\\nX-Original-URI: ', b'\\nX-Scheme: https\\r\\nsec-ch-ua: \"Microsoft Edge\";', b'\"113\", \"Chromium\";v=\"113\", \"Not-A.Brand\";v=\"24\"\\r\\nsec-ch-ua-mobile: ?0\\r\\nsec-ch-ua-platform: \"Windows\"\\r\\nsec-fetch-site:', b'ame-origin\\r\\nsec-fetch-mode: nav', b'ate\\r\\nsec-fetch-user: ?1\\r\\nsec-fetch-dest: document\\r\\nX-Original-Proto: http\\r\\nProxy-Connection: Keep-Alive\\r', b'raceparen']\n",
      "Bad pipe message: %s [b'0.9,image/webp,image/apng,*/*;q=0.8,application/signed-exchange;v=b3;q=0.7\\r\\nHost: localhost:46311\\r\\nUser-Agent: M', b'illa/5.0 (Windows NT 10.0; Win64; x64) AppleWebKit/537.36 (KHTML, like Gecko) Chrome/113.0.0.0 Safari/537.36 E']\n",
      "Bad pipe message: %s [b'/113.0.1774.35\\r\\nAccept-Encoding: gzip, deflate, br\\r\\nAccept-Language: en-US,en;q=0.9\\r\\nX-Forwarded-Fo', b' 10.240.0.4\\r\\nReferer: https://global.rel.tunnels.api.visualstudio.com/\\r\\nX-Request-ID: 41f88764e270f48c3dbe755cd61']\n",
      "Bad pipe message: %s [b'4f9\\r\\nX-Real-IP: 10.240.0.4\\r\\nX-Forwarded-Proto: https\\r\\nX-Forwarded-Host: qlz6t2tg-46311.use2.devtunn']\n",
      "Bad pipe message: %s [b's.ms\\r\\nX-Forwarded-Port: 443\\r\\nX-Forwarded-Scheme: https\\r\\nX-Original-URI: /\\r\\nX-Scheme: https\\r\\nsec-ch-u']\n",
      "Bad pipe message: %s [b' \"Microsoft Edge\";v=\"113\", \"Chromium\";v=\"113\", \"Not-A.Brand\";v=\"24\"\\r\\nsec-ch-ua-mobile: ?0\\r\\nsec-c']\n",
      "Bad pipe message: %s [b'ua-platform: \"Windows\"\\r\\nsec-fetch-site: cross-site\\r\\nsec-fetch-mode: navigate\\r\\nsec-fetch-user: ?1\\r\\nsec-f', b'ch-dest: document\\r\\nX-Original-Proto: http\\r\\nProxy-Connection: Keep-Alive\\r\\ntraceparent: 00-ea10dcb7dc9']\n",
      "Bad pipe message: %s [b'0.9,image/webp,image/apng,*/*;q=0.8,application/signed-exchange;v=b3;q=0.7\\r\\nHost: localhost:46311\\r\\nUser-Agent: M', b'illa/5.0 (Windows NT 10.0; Win64; x64) AppleWebKit/537.36 (KHTML, like Gecko) Chrome/113.0.0.0 Safari/537.36 E']\n",
      "Bad pipe message: %s [b'/113.0.1774.35\\r\\nAccept-Encoding: gzip, deflate, br\\r\\nAccept-Language: en-US,en;q=0.9\\r\\nX-Forwarded-Fo', b' 10.240.2.255\\r\\nReferer: https://global.rel.tunnels.api.visualstudio.com/\\r\\nX-Request-ID: 4c603bb3b74d7fce108cd990b']\n",
      "Bad pipe message: %s [b'b53e0\\r\\nX-Real-IP: 10.240.2.255\\r\\nX-Forwarded-Proto', b'https\\r\\nX-Forwarded-Host: qlz6t2tg-46311.use2.devtunnels.m']\n",
      "Bad pipe message: %s [b'\\nX-Forwarded-Port: 443\\r\\nX-Forwarded-Scheme: https\\r\\nX-Original-URI: /\\r\\nX-Scheme: https\\r\\nsec-ch-ua: \"Microsoft Edge\"', b'=\"113\", \"Chromium\";v=\"113\", \"Not-A.Brand\";v=\"24\"\\r\\nsec-ch-u']\n"
     ]
    }
   ],
   "source": [
    "ciclos = [x[1] for x in periodos]\n",
    "ciclos_uniq, ciclos_r= np.unique(ciclos, return_counts=True)\n",
    "ciclos_uniq = np.array(ciclos_uniq, dtype=str)\n",
    "plt.bar(ciclos_uniq, ciclos_r)"
   ]
  },
  {
   "attachments": {},
   "cell_type": "markdown",
   "metadata": {},
   "source": [
    "## Conclusion\n",
    "    Se puede concluir que el generador de numeros aleatorios basado en los primeros 1000 digitos de pi no es muy bueno:\n",
    "        1. La distribucion de los numeros no es uniforme.\n",
    "        2. El ciclo de generacion es inconsistente y depende mucho de su seed.\n",
    "    Además, por cuestiones de simplificacion, se determina el cliclo como 144740, ya que este fue el más común a lo largo de la simulación.\n",
    "## Recomendacion\n",
    "    Se recomienda investigar un poco mas a fondo la inconsistencia del generador cuando al ciclo que refiere."
   ]
  }
 ],
 "metadata": {
  "kernelspec": {
   "display_name": "Python 3 (ipykernel)",
   "language": "python",
   "name": "python3"
  },
  "language_info": {
   "codemirror_mode": {
    "name": "ipython",
    "version": 3
   },
   "file_extension": ".py",
   "mimetype": "text/x-python",
   "name": "python",
   "nbconvert_exporter": "python",
   "pygments_lexer": "ipython3",
   "version": "3.10.9"
  }
 },
 "nbformat": 4,
 "nbformat_minor": 2
}
